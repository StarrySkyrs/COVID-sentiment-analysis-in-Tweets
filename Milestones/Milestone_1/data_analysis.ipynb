{
 "cells": [
  {
   "cell_type": "code",
   "execution_count": 29,
   "id": "18a1af79-7961-4609-b042-9466baef7b1b",
   "metadata": {},
   "outputs": [
    {
     "data": {
      "text/plain": [
       "negative    55\n",
       "neutral     21\n",
       "positive    14\n",
       "Name: tag, dtype: int64"
      ]
     },
     "execution_count": 29,
     "metadata": {},
     "output_type": "execute_result"
    }
   ],
   "source": [
    "import pandas as pd\n",
    "\n",
    "df_test_masks = pd.read_csv('test data/test_masks.tsv', sep='\\t')\n",
    "\n",
    "df_test_masks['tag'].value_counts()"
   ]
  },
  {
   "cell_type": "code",
   "execution_count": 30,
   "id": "690273c4-4e31-42ad-9b88-f1ea154c6c11",
   "metadata": {},
   "outputs": [
    {
     "data": {
      "text/plain": [
       "neutral     44\n",
       "negative    44\n",
       "positive    13\n",
       "Name: tag, dtype: int64"
      ]
     },
     "execution_count": 30,
     "metadata": {},
     "output_type": "execute_result"
    }
   ],
   "source": [
    "df_test_vaccines = pd.read_csv('test data/test_vaccines.tsv', sep='\\t')\n",
    "\n",
    "df_test_vaccines['tag'].value_counts()"
   ]
  },
  {
   "cell_type": "code",
   "execution_count": 15,
   "id": "8205291f-0677-4653-834e-a3f03f3215dc",
   "metadata": {},
   "outputs": [],
   "source": [
    "df_training_data = pd.read_csv('train.tsv', sep='\\t', names=['id', 'tag', 'text'])"
   ]
  },
  {
   "cell_type": "code",
   "execution_count": 17,
   "id": "5e486f43-0bb7-453a-917d-0216c23e1182",
   "metadata": {},
   "outputs": [
    {
     "data": {
      "text/plain": [
       "neutral     6847\n",
       "positive    6847\n",
       "negative    2396\n",
       "Name: tag, dtype: int64"
      ]
     },
     "execution_count": 17,
     "metadata": {},
     "output_type": "execute_result"
    }
   ],
   "source": [
    "df_training_data['tag'].value_counts()"
   ]
  },
  {
   "cell_type": "code",
   "execution_count": 18,
   "id": "94664ede-1cf4-44fa-bb2f-944136fa0cd8",
   "metadata": {},
   "outputs": [],
   "source": [
    "df_dev_data = pd.read_csv('dev.tsv', sep='\\t', names=['id', 'tag', 'text'])"
   ]
  },
  {
   "cell_type": "code",
   "execution_count": 19,
   "id": "45c5199f-78bc-4bc2-90ca-0a00854b9f1d",
   "metadata": {},
   "outputs": [
    {
     "data": {
      "text/plain": [
       "positive    2398\n",
       "neutral     2166\n",
       "negative    1056\n",
       "Name: tag, dtype: int64"
      ]
     },
     "execution_count": 19,
     "metadata": {},
     "output_type": "execute_result"
    }
   ],
   "source": [
    "df_dev_data['tag'].value_counts()"
   ]
  },
  {
   "cell_type": "code",
   "execution_count": 20,
   "id": "bec17b53-3ead-46a3-8560-5b1c5d4eb44a",
   "metadata": {},
   "outputs": [
    {
     "data": {
      "text/html": [
       "<div>\n",
       "<style scoped>\n",
       "    .dataframe tbody tr th:only-of-type {\n",
       "        vertical-align: middle;\n",
       "    }\n",
       "\n",
       "    .dataframe tbody tr th {\n",
       "        vertical-align: top;\n",
       "    }\n",
       "\n",
       "    .dataframe thead th {\n",
       "        text-align: right;\n",
       "    }\n",
       "</style>\n",
       "<table border=\"1\" class=\"dataframe\">\n",
       "  <thead>\n",
       "    <tr style=\"text-align: right;\">\n",
       "      <th></th>\n",
       "      <th>id</th>\n",
       "      <th>tag</th>\n",
       "      <th>text</th>\n",
       "    </tr>\n",
       "  </thead>\n",
       "  <tbody>\n",
       "    <tr>\n",
       "      <th>0</th>\n",
       "      <td>1512393512377069573</td>\n",
       "      <td>positive</td>\n",
       "      <td>Thank you to all those who still limit indoor ...</td>\n",
       "    </tr>\n",
       "    <tr>\n",
       "      <th>1</th>\n",
       "      <td>1512324740677054467</td>\n",
       "      <td>positive</td>\n",
       "      <td>Went to the cinema for the first time in over ...</td>\n",
       "    </tr>\n",
       "    <tr>\n",
       "      <th>2</th>\n",
       "      <td>1512232842817941541</td>\n",
       "      <td>positive</td>\n",
       "      <td>Since ditching masks so many people are gettin...</td>\n",
       "    </tr>\n",
       "    <tr>\n",
       "      <th>3</th>\n",
       "      <td>1512201270156791809</td>\n",
       "      <td>negative</td>\n",
       "      <td>I’ve never felt so alone in my life 😢🙁\\n\\nPlea...</td>\n",
       "    </tr>\n",
       "    <tr>\n",
       "      <th>4</th>\n",
       "      <td>1512198867235782660</td>\n",
       "      <td>negative</td>\n",
       "      <td>@Paula64442505 Even if I live to be 3,000 year...</td>\n",
       "    </tr>\n",
       "    <tr>\n",
       "      <th>...</th>\n",
       "      <td>...</td>\n",
       "      <td>...</td>\n",
       "      <td>...</td>\n",
       "    </tr>\n",
       "    <tr>\n",
       "      <th>87</th>\n",
       "      <td>1510211679283740680</td>\n",
       "      <td>negative</td>\n",
       "      <td>New #XE #COVID19 #variant may be the most infe...</td>\n",
       "    </tr>\n",
       "    <tr>\n",
       "      <th>88</th>\n",
       "      <td>1510177252017078272</td>\n",
       "      <td>neutral</td>\n",
       "      <td>Wear a mask when you go out 😷\\n\\nCovid is not ...</td>\n",
       "    </tr>\n",
       "    <tr>\n",
       "      <th>89</th>\n",
       "      <td>1510167019303354368</td>\n",
       "      <td>positive</td>\n",
       "      <td>#Ontario doing better without restrictions tha...</td>\n",
       "    </tr>\n",
       "    <tr>\n",
       "      <th>90</th>\n",
       "      <td>1510117976070303747</td>\n",
       "      <td>negative</td>\n",
       "      <td>Horrifying to read Sweden used “mass, involunt...</td>\n",
       "    </tr>\n",
       "    <tr>\n",
       "      <th>91</th>\n",
       "      <td>1510052775711117313</td>\n",
       "      <td>negative</td>\n",
       "      <td>Elective #surgery at risk as #Omicron #BA2 rip...</td>\n",
       "    </tr>\n",
       "  </tbody>\n",
       "</table>\n",
       "<p>92 rows × 3 columns</p>\n",
       "</div>"
      ],
      "text/plain": [
       "                     id       tag  \\\n",
       "0   1512393512377069573  positive   \n",
       "1   1512324740677054467  positive   \n",
       "2   1512232842817941541  positive   \n",
       "3   1512201270156791809  negative   \n",
       "4   1512198867235782660  negative   \n",
       "..                  ...       ...   \n",
       "87  1510211679283740680  negative   \n",
       "88  1510177252017078272   neutral   \n",
       "89  1510167019303354368  positive   \n",
       "90  1510117976070303747  negative   \n",
       "91  1510052775711117313  negative   \n",
       "\n",
       "                                                 text  \n",
       "0   Thank you to all those who still limit indoor ...  \n",
       "1   Went to the cinema for the first time in over ...  \n",
       "2   Since ditching masks so many people are gettin...  \n",
       "3   I’ve never felt so alone in my life 😢🙁\\n\\nPlea...  \n",
       "4   @Paula64442505 Even if I live to be 3,000 year...  \n",
       "..                                                ...  \n",
       "87  New #XE #COVID19 #variant may be the most infe...  \n",
       "88  Wear a mask when you go out 😷\\n\\nCovid is not ...  \n",
       "89  #Ontario doing better without restrictions tha...  \n",
       "90  Horrifying to read Sweden used “mass, involunt...  \n",
       "91  Elective #surgery at risk as #Omicron #BA2 rip...  \n",
       "\n",
       "[92 rows x 3 columns]"
      ]
     },
     "execution_count": 20,
     "metadata": {},
     "output_type": "execute_result"
    }
   ],
   "source": [
    "df_test_masks  = df_test_masks[['id', 'tag', 'text']]\n",
    "df_test_masks"
   ]
  },
  {
   "cell_type": "code",
   "execution_count": null,
   "id": "1e7e2fd2-03fb-4a33-a906-f7b12e984caa",
   "metadata": {},
   "outputs": [],
   "source": []
  }
 ],
 "metadata": {
  "kernelspec": {
   "display_name": "Python 3 (ipykernel)",
   "language": "python",
   "name": "python3"
  },
  "language_info": {
   "codemirror_mode": {
    "name": "ipython",
    "version": 3
   },
   "file_extension": ".py",
   "mimetype": "text/x-python",
   "name": "python",
   "nbconvert_exporter": "python",
   "pygments_lexer": "ipython3",
   "version": "3.9.10"
  }
 },
 "nbformat": 4,
 "nbformat_minor": 5
}
